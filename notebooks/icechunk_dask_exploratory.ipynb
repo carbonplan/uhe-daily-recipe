{
 "cells": [
  {
   "cell_type": "markdown",
   "metadata": {},
   "source": [
    "## Scattered notebook for exploring icechunk\n"
   ]
  },
  {
   "cell_type": "code",
   "execution_count": 1,
   "metadata": {},
   "outputs": [],
   "source": [
    "import icechunk\n",
    "import icechunk.storage\n",
    "import icechunk.xarray\n",
    "import numpy as np\n",
    "import pandas as pd\n",
    "import xarray as xr"
   ]
  },
  {
   "cell_type": "code",
   "execution_count": 2,
   "metadata": {},
   "outputs": [],
   "source": [
    "# cluster = coiled.Cluster(\n",
    "# n_workers=2,\n",
    "# worker_vm_types=[\"t4g.2xlarge\"],\n",
    "# scheduler_vm_types=[\"m8g.2xlarge\"],\n",
    "# region=\"us-west-2\",\n",
    "# spot_policy=\"spot_with_fallback\")\n",
    "\n",
    "\n",
    "# cluster.adapt(minimum=2, maximum=20)\n",
    "\n",
    "# client = cluster.get_client()"
   ]
  },
  {
   "cell_type": "code",
   "execution_count": 3,
   "metadata": {},
   "outputs": [],
   "source": [
    "def gen_wget_strings(start_year: int, end_year: int) -> list:\n",
    "    \"\"\"\n",
    "    Access the UHE-daily gridded data product that formed the basis for\n",
    "    Tuholske et al (2021).\n",
    "    \"\"\"\n",
    "    daterange = pd.date_range(f\"{start_year}-01-01\", f\"{end_year}-12-31\")\n",
    "    return [\n",
    "        f\"https://data.chc.ucsb.edu/people/cascade/UHE-daily/wbgtmax/{date.strftime('%Y')}/wbgtmax.{date.strftime('%Y.%m.%d')}.tif\"\n",
    "        for date in daterange\n",
    "    ]\n",
    "\n",
    "\n",
    "def parse_ds(ds: xr.Dataset) -> xr.Dataset:\n",
    "    ds = (\n",
    "        ds.expand_dims(\n",
    "            time=[np.datetime64(\"-\".join(ds.encoding[\"source\"].split(\".\")[-4:-1]))]\n",
    "        )\n",
    "        .squeeze(dim=[\"band\"], drop=True)\n",
    "        .drop(\"spatial_ref\")\n",
    "        .rename({\"band_data\": \"WBGT\", \"x\": \"lon\", \"y\": \"lat\"})\n",
    "        .sortby(\"lat\")\n",
    "    )\n",
    "    ds = ds.chunk({\"time\": 1, \"lat\": 2600, \"lon\": 7200})\n",
    "    return ds"
   ]
  },
  {
   "cell_type": "code",
   "execution_count": 5,
   "metadata": {},
   "outputs": [],
   "source": [
    "ic_storage = icechunk.storage.s3_storage(\n",
    "    bucket=\"carbonplan-scratch\",\n",
    "    prefix=\"uhe_daily\",\n",
    "    region=\"us-west-2\",\n",
    ")\n",
    "repo = icechunk.Repository.open_or_create(storage=ic_storage)"
   ]
  },
  {
   "cell_type": "code",
   "execution_count": null,
   "metadata": {},
   "outputs": [],
   "source": [
    "session = repo.writable_session(\"main\")\n",
    "store = session.store\n",
    "# template.to_zarr(store, zarr_format=3, compute=False, mode=\"w\")\n",
    "# icechunk.xarray.to_icechunk(template, store=store,compute=False, mode='w')\n",
    "session.commit(\"Add template\")"
   ]
  },
  {
   "cell_type": "code",
   "execution_count": null,
   "metadata": {},
   "outputs": [],
   "source": [
    "from dask.distributed import Client\n",
    "\n",
    "client = Client(n_workers=1, threads_per_worker=1)\n",
    "client"
   ]
  },
  {
   "cell_type": "code",
   "execution_count": null,
   "metadata": {},
   "outputs": [],
   "source": [
    "import icechunk.session\n",
    "\n",
    "\n",
    "def delayed_write_region(write_region_task: tuple) -> icechunk.Session:\n",
    "    url, session = write_region_task\n",
    "\n",
    "    ds = xr.open_dataset(url, engine=\"rasterio\")\n",
    "    ds = parse_ds(ds)\n",
    "\n",
    "    store = session.store\n",
    "\n",
    "    icechunk.xarray.to_icechunk(\n",
    "        ds, store=store, region=\"auto\", consoldated=False, zarr_format=3\n",
    "    )\n",
    "    # ds.to_zarr(\n",
    "    #     store,\n",
    "    #     zarr_format=3,\n",
    "    #     region=\"auto\",\n",
    "    #     compute=True,\n",
    "    #     consolidated=False\n",
    "    # )\n",
    "    return session\n",
    "\n",
    "\n",
    "session = repo.writable_session(\"main\")\n",
    "# write_region_task = [(url, session) for url in uhe_urls]\n",
    "\n",
    "# map_result = client.map(delayed_write_region, write_region_task)\n",
    "# worker_changes = client.gather(map_result)"
   ]
  },
  {
   "cell_type": "code",
   "execution_count": 23,
   "metadata": {},
   "outputs": [],
   "source": [
    "# for worker_session in worker_changes:\n",
    "#     session.merge(worker_session)\n",
    "# commit_res = session.commit(\"distributed commit\")"
   ]
  },
  {
   "cell_type": "code",
   "execution_count": null,
   "metadata": {},
   "outputs": [],
   "source": [
    "# ds = xr.open_zarr(session.store)"
   ]
  }
 ],
 "metadata": {
  "kernelspec": {
   "display_name": "uhe_daily_recipe",
   "language": "python",
   "name": "python3"
  },
  "language_info": {
   "codemirror_mode": {
    "name": "ipython",
    "version": 3
   },
   "file_extension": ".py",
   "mimetype": "text/x-python",
   "name": "python",
   "nbconvert_exporter": "python",
   "pygments_lexer": "ipython3",
   "version": "3.12.8"
  }
 },
 "nbformat": 4,
 "nbformat_minor": 2
}
